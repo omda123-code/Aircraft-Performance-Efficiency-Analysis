{
 "cells": [
  {
   "cell_type": "code",
   "execution_count": 19,
   "id": "4d450476-5de1-49ed-b584-0581460ffbc0",
   "metadata": {},
   "outputs": [],
   "source": [
    "import pandas as pd\n",
    "import matplotlib.pyplot as plt\n",
    "import seaborn as sns\n",
    "import os "
   ]
  },
  {
   "cell_type": "code",
   "execution_count": 4,
   "id": "07e5e5a9-5b5c-4116-926f-cd80896d1760",
   "metadata": {},
   "outputs": [],
   "source": [
    "# Load dataset\n",
    "df = pd.read_csv('aircraft_dataset.csv')"
   ]
  },
  {
   "cell_type": "code",
   "execution_count": 9,
   "id": "cddb37e6-4305-42ba-aab0-f29ad23396fd",
   "metadata": {},
   "outputs": [],
   "source": [
    "# Derived columns for analysis\n",
    "df['Payload_MTOW_Ratio'] = (df['Cargo Capacity (kg)'] + df['Number of Passengers']*75) / df['Maximum Takeoff Weight (kg)']\n",
    "df['Fuel_per_Passenger'] = df['Fuel Capacity (liters)'] / df['Number of Passengers']\n",
    "df['Cargo_Fuel_Ratio'] = df['Cargo Capacity (kg)'] / df['Fuel Capacity (liters)']\n",
    "df['Passengers_Fuel_Ratio'] = df['Number of Passengers'] / df['Fuel Capacity (liters)']\n",
    "df['Fuel_MTOW_Ratio'] = df['Fuel Capacity (liters)'] / df['Maximum Takeoff Weight (kg)']\n",
    "df['Passengers_per_Meter'] = df['Number of Passengers'] / df['Fuselage Length (m)']\n",
    "df['Performance_Index'] = (\n",
    "    df['Passengers_per_Meter'] +\n",
    "    df['Cargo Capacity (kg)']/df['Maximum Takeoff Weight (kg)'] +\n",
    "    df['Maximum Speed (knots)']/df['Maximum Takeoff Weight (kg)']\n",
    ")"
   ]
  },
  {
   "cell_type": "code",
   "execution_count": 23,
   "id": "43d7366e-2e34-4c43-a9df-791dd05281f2",
   "metadata": {},
   "outputs": [],
   "source": [
    "# Create folder to save charts\n",
    "output_folder = 'aircraft_charts'\n",
    "os.makedirs(output_folder, exist_ok=True)"
   ]
  },
  {
   "cell_type": "code",
   "execution_count": 24,
   "id": "4a6716b4-c192-4cff-9889-bcc18acad148",
   "metadata": {},
   "outputs": [],
   "source": [
    "# Function to save plots automatically\n",
    "def save_plot(fig, filename):\n",
    "    fig.savefig(os.path.join(output_folder, filename), bbox_inches='tight', dpi=300)\n",
    "    plt.close(fig)"
   ]
  },
  {
   "cell_type": "code",
   "execution_count": 27,
   "id": "90b8e0c0-98b5-48bc-863d-54c6e21430e9",
   "metadata": {},
   "outputs": [],
   "source": [
    "# === 1. Payload Efficiency ===\n",
    "fig, ax = plt.subplots(figsize=(12,6))\n",
    "top_payload = df.nlargest(10, 'Payload_MTOW_Ratio')\n",
    "sns.barplot(data=top_payload, x='Aircraft Model', y='Payload_MTOW_Ratio', ax=ax)\n",
    "plt.xticks(rotation=45)\n",
    "plt.title('Top 10 Aircraft by Payload/MTOW Ratio')\n",
    "save_plot(fig, 'payload_mtow_ratio.png')"
   ]
  },
  {
   "cell_type": "code",
   "execution_count": 28,
   "id": "d96d4c61-3176-46d4-9b3d-15f4aa263c66",
   "metadata": {},
   "outputs": [],
   "source": [
    "# === 2. Fuel per Passenger ===\n",
    "fig, ax = plt.subplots(figsize=(12,6))\n",
    "sns.histplot(df['Fuel_per_Passenger'], bins=30, kde=True, ax=ax)\n",
    "plt.title('Fuel per Passenger Distribution')\n",
    "save_plot(fig, 'fuel_per_passenger.png')"
   ]
  },
  {
   "cell_type": "code",
   "execution_count": 29,
   "id": "220dab57-3398-4d0d-b3a6-8bd64974c466",
   "metadata": {},
   "outputs": [],
   "source": [
    "# === 3. Cargo vs Fuel Efficiency ===\n",
    "fig, ax = plt.subplots(figsize=(12,6))\n",
    "top_cargo_fuel = df.nlargest(10, 'Cargo_Fuel_Ratio')\n",
    "sns.barplot(data=top_cargo_fuel, x='Aircraft Model', y='Cargo_Fuel_Ratio', ax=ax)\n",
    "plt.xticks(rotation=45)\n",
    "plt.title('Top 10 Aircraft by Cargo/Fuel Ratio')\n",
    "save_plot(fig, 'cargo_fuel_ratio.png')"
   ]
  },
  {
   "cell_type": "code",
   "execution_count": 30,
   "id": "281949c2-f9ef-4547-8bf6-8e5e09059f57",
   "metadata": {},
   "outputs": [],
   "source": [
    "# === 4. Engine Type vs Performance ===\n",
    "fig, ax = plt.subplots(figsize=(10,6))\n",
    "sns.scatterplot(\n",
    "    data=df,\n",
    "    x='Maximum Altitude (ft)',\n",
    "    y='Maximum Speed (knots)',\n",
    "    hue='Engine Type',\n",
    "    ax=ax\n",
    ")\n",
    "plt.title('Engine Type vs Speed and Altitude')\n",
    "save_plot(fig, 'engine_type_speed_altitude.png')"
   ]
  },
  {
   "cell_type": "code",
   "execution_count": 31,
   "id": "51a65459-d809-49c4-88f2-05ee0b2d0daf",
   "metadata": {},
   "outputs": [],
   "source": [
    "# === 5. Passengers per Meter ===\n",
    "fig, ax = plt.subplots(figsize=(12,6))\n",
    "top_passengers_eff = df.nlargest(10, 'Passengers_per_Meter')\n",
    "sns.barplot(data=top_passengers_eff, x='Aircraft Model', y='Passengers_per_Meter', ax=ax)\n",
    "plt.xticks(rotation=45)\n",
    "plt.title('Top 10 Aircraft by Passenger Density (Passengers per Meter)')\n",
    "save_plot(fig, 'passengers_per_meter.png')"
   ]
  },
  {
   "cell_type": "code",
   "execution_count": 32,
   "id": "ae99a0c3-f44a-4b9c-a4cc-7bd57cf40de2",
   "metadata": {},
   "outputs": [],
   "source": [
    "# === 6. Fuel/MTOW Ratio ===\n",
    "fig, ax = plt.subplots(figsize=(12,6))\n",
    "sns.histplot(df['Fuel_MTOW_Ratio'], bins=30, kde=True, ax=ax)\n",
    "plt.title('Fuel/MTOW Ratio Distribution')\n",
    "save_plot(fig, 'fuel_mtow_ratio.png')"
   ]
  },
  {
   "cell_type": "code",
   "execution_count": 33,
   "id": "ba8107ff-b493-4099-938c-88040426979c",
   "metadata": {},
   "outputs": [],
   "source": [
    "# === 7. Performance Index ===\n",
    "fig, ax = plt.subplots(figsize=(12,6))\n",
    "top_perf = df.nlargest(10, 'Performance_Index')\n",
    "sns.barplot(data=top_perf, x='Aircraft Model', y='Performance_Index', ax=ax)\n",
    "plt.xticks(rotation=45)\n",
    "plt.title('Top 10 Aircraft by Multi-Factor Performance Index')\n",
    "save_plot(fig, 'performance_index.png')"
   ]
  },
  {
   "cell_type": "code",
   "execution_count": 34,
   "id": "31990d9f-201f-480f-b7e3-fa63e53a4291",
   "metadata": {},
   "outputs": [],
   "source": [
    "# === 8. Heatmap for correlation ===\n",
    "fig, ax = plt.subplots(figsize=(12,8))\n",
    "corr_cols = [\n",
    "    'Empty Weight (kg)', 'Maximum Takeoff Weight (kg)', 'Maximum Landing Weight (kg)',\n",
    "    'Wing Loading (kg/m²)', 'Tail Loading (kg/m²)', 'Fuel Capacity (liters)',\n",
    "    'Number of Passengers', 'Cargo Capacity (kg)', 'Maximum Altitude (ft)',\n",
    "    'Maximum Speed (knots)', 'Fuselage Length (m)'\n",
    "]\n",
    "sns.heatmap(df[corr_cols].corr(), annot=True, cmap='coolwarm', fmt=\".2f\", ax=ax)\n",
    "plt.title('Correlation Heatmap of Key Aircraft Parameters')\n",
    "save_plot(fig, 'heatmap_correlation.png')"
   ]
  },
  {
   "cell_type": "code",
   "execution_count": 35,
   "id": "433e912f-9575-471c-afda-78326f42d7e3",
   "metadata": {},
   "outputs": [],
   "source": [
    "# === 9. Pairplot / Scatter Matrix ===\n",
    "pairplot_file = os.path.join(output_folder, 'pairplot_scatter_matrix.png')\n",
    "sns.pairplot(df[corr_cols])\n",
    "plt.savefig(pairplot_file, bbox_inches='tight', dpi=300)\n",
    "plt.close()"
   ]
  },
  {
   "cell_type": "code",
   "execution_count": 36,
   "id": "b99cc2e6-1f1c-4a8e-8929-a57cb3e4fe80",
   "metadata": {},
   "outputs": [],
   "source": [
    "# === 10. Center of Gravity Limits vs MTOW ===\n",
    "fig, ax = plt.subplots(figsize=(12,6))\n",
    "sns.scatterplot(\n",
    "    data=df,\n",
    "    x='Maximum Takeoff Weight (kg)',\n",
    "    y='Center of Gravity Limits',\n",
    "    hue='Engine Type',\n",
    "    ax=ax\n",
    ")\n",
    "plt.title('Center of Gravity Limits vs Maximum Takeoff Weight')\n",
    "plt.xticks(rotation=45)\n",
    "save_plot(fig, 'cg_limits_vs_mtow.png')"
   ]
  },
  {
   "cell_type": "code",
   "execution_count": 37,
   "id": "ffde530c-4b14-4248-9596-1d7300a2fe93",
   "metadata": {},
   "outputs": [],
   "source": [
    "# === 11. Wing Loading vs Maximum Altitude ===\n",
    "fig, ax = plt.subplots(figsize=(12,6))\n",
    "sns.scatterplot(\n",
    "    data=df,\n",
    "    x='Wing Loading (kg/m²)',\n",
    "    y='Maximum Altitude (ft)',\n",
    "    hue='Engine Type',\n",
    "    ax=ax\n",
    ")\n",
    "plt.title('Wing Loading vs Maximum Altitude')\n",
    "plt.xticks(rotation=45)\n",
    "save_plot(fig, 'wing_loading_vs_max_altitude.png')"
   ]
  },
  {
   "cell_type": "code",
   "execution_count": 38,
   "id": "a83f9add-7a26-4246-b5d9-3e7829810360",
   "metadata": {},
   "outputs": [],
   "source": [
    "# === 12. Passengers-to-Fuel Efficiency ===\n",
    "fig, ax = plt.subplots(figsize=(12,6))\n",
    "sns.histplot(df['Passengers_Fuel_Ratio'], bins=30, kde=True, ax=ax)\n",
    "plt.title('Passengers-to-Fuel Efficiency Distribution')\n",
    "save_plot(fig, 'passengers_per_fuel.png')"
   ]
  },
  {
   "cell_type": "code",
   "execution_count": null,
   "id": "904d2404-d537-4350-9138-20bc7e88275c",
   "metadata": {},
   "outputs": [],
   "source": []
  }
 ],
 "metadata": {
  "kernelspec": {
   "display_name": "Python 3 (ipykernel)",
   "language": "python",
   "name": "python3"
  },
  "language_info": {
   "codemirror_mode": {
    "name": "ipython",
    "version": 3
   },
   "file_extension": ".py",
   "mimetype": "text/x-python",
   "name": "python",
   "nbconvert_exporter": "python",
   "pygments_lexer": "ipython3",
   "version": "3.12.7"
  }
 },
 "nbformat": 4,
 "nbformat_minor": 5
}
